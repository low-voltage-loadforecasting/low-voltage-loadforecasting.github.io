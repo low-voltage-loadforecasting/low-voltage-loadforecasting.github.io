{
 "cells": [
  {
   "cell_type": "code",
   "execution_count": 1,
   "metadata": {
    "ExecuteTime": {
     "end_time": "2021-06-09T13:17:45.686399Z",
     "start_time": "2021-06-09T13:17:44.009177Z"
    }
   },
   "outputs": [],
   "source": [
    "import pandas as pd"
   ]
  },
  {
   "cell_type": "code",
   "execution_count": 7,
   "metadata": {
    "ExecuteTime": {
     "end_time": "2021-06-09T13:28:14.675401Z",
     "start_time": "2021-06-09T13:28:14.658402Z"
    }
   },
   "outputs": [],
   "source": [
    "df = pd.read_csv(\"datasets2.csv\", sep=\";\")\n",
    "df.to_csv(\"datasets.csv\",index=False)"
   ]
  },
  {
   "cell_type": "code",
   "execution_count": null,
   "metadata": {},
   "outputs": [],
   "source": []
  }
 ],
 "metadata": {
  "kernelspec": {
   "display_name": "Python [conda env:eda]",
   "language": "python",
   "name": "conda-env-eda-py"
  },
  "language_info": {
   "codemirror_mode": {
    "name": "ipython",
    "version": 3
   },
   "file_extension": ".py",
   "mimetype": "text/x-python",
   "name": "python",
   "nbconvert_exporter": "python",
   "pygments_lexer": "ipython3",
   "version": "3.7.10"
  }
 },
 "nbformat": 4,
 "nbformat_minor": 4
}
